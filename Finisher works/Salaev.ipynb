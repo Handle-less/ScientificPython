{
 "cells": [
  {
   "cell_type": "markdown",
   "id": "349b4a82",
   "metadata": {},
   "source": [
    "# Салаев Владислав 3821Б1ПР2\n",
    "\n",
    "# 42. Момент инерции\n",
    "\n",
    "Требуется определить внешний $R$ и внутренний $r$ радиусы цилиндрической трубы, если известны ее длина $\\ell$, толщина $h=R-r$, плотность $\\rho$ и момент инерции относительно ее продольной оси $I$. \n",
    "\n",
    "Момент инерции для цилиндрической трубы вычисляется по формуле\n",
    "$$\n",
    "I = \\frac{\\pi\\rho \\ell}{2} (R^4 - r^4)\n",
    "$$\n",
    "и задача сводится к решению кубического уравнения.\n",
    "\n",
    "1. Выведите это кубическое уравнение\n",
    "\n",
    "2. Решите его численно (см. `scipy.optimize.brentq` или другой метод) для значений:\n",
    "   $\\ell = 2$, $h=0.02$, $\\rho = 1200$, $I = 1.2$. Сколько вещественных корней имеет уравнение?\n",
    "\n",
    "3. Построить график зависимости $r$ от $I$ при значениях $\\ell$, $h$, $\\rho$, указанных выше.\n"
   ]
  },
  {
   "cell_type": "markdown",
   "id": "b4d0f94c",
   "metadata": {},
   "source": [
    " ## Кубическое уравнение\n",
    "\n",
    "\n",
    "\n",
    "$$\n",
    "I = \\frac{\\pi\\rho \\ell}{2} (h^4 + 4h^3r + 6h^2r^2 + 4hr^3)\n",
    "$$"
   ]
  },
  {
   "cell_type": "markdown",
   "id": "b2a8d350",
   "metadata": {},
   "source": [
    "## Добавим библиотеки"
   ]
  },
  {
   "cell_type": "code",
   "execution_count": 44,
   "id": "d20e2094",
   "metadata": {},
   "outputs": [],
   "source": [
    "import numpy as np\n",
    "import matplotlib.pyplot as plt\n",
    "from scipy.optimize import brentq"
   ]
  },
  {
   "cell_type": "markdown",
   "id": "a4139cfc",
   "metadata": {},
   "source": [
    "## Объявим переменные для решения уравнения"
   ]
  },
  {
   "cell_type": "code",
   "execution_count": 72,
   "id": "d227211d",
   "metadata": {},
   "outputs": [],
   "source": [
    "I = 1.2\n",
    "l = 2\n",
    "h = 0.02\n",
    "p = 1200\n",
    "Pi = np.pi"
   ]
  },
  {
   "cell_type": "markdown",
   "id": "37d4172c",
   "metadata": {},
   "source": [
    "## Функция, для вычисления уравнения\n"
   ]
  },
  {
   "cell_type": "code",
   "execution_count": 73,
   "id": "d591226e",
   "metadata": {},
   "outputs": [],
   "source": [
    "def f(r):\n",
    "    return ((Pi*p*l)/2)*(h**4 + 4*h**3*r + 6*h**2*r**2 + 4*h*r**3) - I"
   ]
  },
  {
   "cell_type": "markdown",
   "id": "24c29680",
   "metadata": {},
   "source": [
    "## Корни уравнения"
   ]
  },
  {
   "cell_type": "code",
   "execution_count": 74,
   "id": "5d30b0b1",
   "metadata": {},
   "outputs": [
    {
     "name": "stdout",
     "output_type": "stream",
     "text": [
      "0.14824978647450776\n"
     ]
    }
   ],
   "source": [
    "x = brentq(f, -1, 1)\n",
    "print(x)"
   ]
  },
  {
   "cell_type": "markdown",
   "id": "747f0f52",
   "metadata": {},
   "source": [
    "## Построим график"
   ]
  },
  {
   "cell_type": "code",
   "execution_count": 107,
   "id": "b4e7e270",
   "metadata": {},
   "outputs": [
    {
     "data": {
      "text/plain": [
       "[<matplotlib.lines.Line2D at 0x2067aacfaf0>]"
      ]
     },
     "execution_count": 107,
     "metadata": {},
     "output_type": "execute_result"
    },
    {
     "data": {
      "image/png": "[encoded data removed]",
      "text/plain": [
       "<Figure size 432x288 with 1 Axes>"
      ]
     },
     "metadata": {
      "needs_background": "light"
     },
     "output_type": "display_data"
    }
   ],
   "source": [
    "x = [1,2,3,4,5]\n",
    "y = []\n",
    "\n",
    "for I in x:\n",
    "    y.append(brentq(f, -1, 1))\n",
    "\n",
    "\n",
    "plt.title(\"Зависимость r от I\") # заголовок\n",
    "plt.xlabel(\"I\")         # ось абсцисс\n",
    "plt.ylabel(\"r\")    # ось ординат\n",
    "plt.grid()              # включение отображение сетки\n",
    "plt.plot(x, y)  # построение графика"
   ]
  },
  {
   "cell_type": "code",
   "execution_count": null,
   "id": "e4387f4f",
   "metadata": {},
   "outputs": [],
   "source": []
  }
 ],
 "metadata": {
  "kernelspec": {
   "display_name": "Python 3 (ipykernel)",
   "language": "python",
   "name": "python3"
  },
  "language_info": {
   "codemirror_mode": {
    "name": "ipython",
    "version": 3
   },
   "file_extension": ".py",
   "mimetype": "text/x-python",
   "name": "python",
   "nbconvert_exporter": "python",
   "pygments_lexer": "ipython3",
   "version": "3.9.5"
  }
 },
 "nbformat": 4,
 "nbformat_minor": 5
}
